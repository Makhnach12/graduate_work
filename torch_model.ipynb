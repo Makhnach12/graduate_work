{
  "cells": [
    {
      "cell_type": "code",
      "execution_count": 1,
      "metadata": {
        "id": "1hVFfvpp64fI"
      },
      "outputs": [],
      "source": [
        "import numpy as np\n",
        "import pandas as pd\n",
        "\n",
        "import torch\n",
        "from torch import nn\n",
        "from torch.nn import functional as F\n",
        "\n",
        "from matplotlib import pyplot as plt\n",
        "from IPython.display import clear_output"
      ]
    },
    {
      "cell_type": "code",
      "source": [
        "class Classifier(nn.Module):\n",
        "    def __init__(self, output_bias=None):\n",
        "        super(Classifier, self).__init__()\n",
        "        self.dense1 = nn.Linear(7, 20)\n",
        "        self.dropout = nn.Dropout(0.5)\n",
        "        self.output = nn.Linear(20, 2)\n",
        "\n",
        "        if output_bias is not None:\n",
        "            self.output.bias.data.fill_(output_bias)\n",
        "\n",
        "        self.relu = nn.ReLU()\n",
        "\n",
        "    def forward(self, x):\n",
        "        x = self.relu(self.dense1(x))\n",
        "        x = self.dropout(x)\n",
        "        x = self.output(x)\n",
        "        return x\n",
        "\n",
        "model = Classifier()"
      ],
      "metadata": {
        "id": "0BuWkF56jsrT"
      },
      "execution_count": 2,
      "outputs": []
    },
    {
      "cell_type": "code",
      "source": [
        "from torch.utils.data import DataLoader, TensorDataset\n",
        "\n",
        "data = pd.read_csv('data_part1.csv')\n",
        "\n",
        "X = data[['dis', 'iou', 'conf', 'dx1', 'dy1', 'dx2', 'dy2']].values\n",
        "y = data['problem'].values\n",
        "\n",
        "X_tensor = torch.FloatTensor(X)\n",
        "y_tensor = torch.LongTensor(y)\n",
        "\n",
        "dataset = TensorDataset(X_tensor, y_tensor)\n",
        "dataloader = DataLoader(dataset, batch_size=32, shuffle=True)"
      ],
      "metadata": {
        "id": "qAn5odq3HlqW"
      },
      "execution_count": 9,
      "outputs": []
    },
    {
      "cell_type": "code",
      "source": [
        "neg, pos = np.bincount(data['problem'])\n",
        "initial_bias = np.log([pos / neg])[0]"
      ],
      "metadata": {
        "id": "jiiImExLX3xe"
      },
      "execution_count": 10,
      "outputs": []
    },
    {
      "cell_type": "code",
      "source": [
        "model = Classifier(output_bias=initial_bias)"
      ],
      "metadata": {
        "id": "P633GzWnYGgc"
      },
      "execution_count": 11,
      "outputs": []
    },
    {
      "cell_type": "code",
      "source": [
        "from sklearn.metrics import precision_score, recall_score, f1_score, accuracy_score\n",
        "\n",
        "class_counts = torch.bincount(y_tensor)\n",
        "class_weights = torch.tensor([1.0, class_counts[0]/class_counts[1].float()])\n",
        "print(class_weights)\n",
        "\n",
        "criterion = nn.CrossEntropyLoss(weight=class_weights)\n",
        "optimizer = torch.optim.Adam(model.parameters(), lr=0.001)\n",
        "\n",
        "def train_model(model, dataloader, criterion, optimizer, num_epochs=5):\n",
        "    model.train()\n",
        "    for epoch in range(num_epochs):\n",
        "        total_loss = 0\n",
        "        all_preds = []\n",
        "        all_labels = []\n",
        "\n",
        "        for images, labels in dataloader:\n",
        "            optimizer.zero_grad()\n",
        "            outputs = model(images)\n",
        "            loss = criterion(outputs, labels)\n",
        "            loss.backward()\n",
        "            optimizer.step()\n",
        "\n",
        "            total_loss += loss.item()\n",
        "            _, preds = torch.max(outputs, 1)\n",
        "            all_preds.extend(preds.cpu().numpy())\n",
        "            all_labels.extend(labels.cpu().numpy())\n",
        "\n",
        "        # Вычисление метрик\n",
        "        acc = accuracy_score(all_labels, all_preds)\n",
        "        prec = precision_score(all_labels, all_preds, zero_division=0)\n",
        "        rec = recall_score(all_labels, all_preds, zero_division=0)\n",
        "        f1 = f1_score(all_labels, all_preds, zero_division=0)\n",
        "\n",
        "        print(f'Epoch {epoch+1}/{num_epochs}:')\n",
        "        print(f'Loss: {total_loss/len(dataloader):.4f} | Accuracy: {acc:.4f}')\n",
        "        print(f'Precision: {prec:.4f} | Recall: {rec:.4f} | F1: {f1:.4f}')\n",
        "        print('-' * 50)\n",
        "\n",
        "# Запуск обучения\n",
        "train_model(model, dataloader, criterion, optimizer, num_epochs=20)"
      ],
      "metadata": {
        "colab": {
          "base_uri": "https://localhost:8080/"
        },
        "id": "msuNRLi_Hc-S",
        "outputId": "8703e903-d62f-4863-d137-9091e2e8d4eb"
      },
      "execution_count": 13,
      "outputs": [
        {
          "output_type": "stream",
          "name": "stdout",
          "text": [
            "tensor([ 1.0000, 45.8736])\n",
            "Epoch 1/20:\n",
            "Loss: 0.3158 | Accuracy: 0.8575\n",
            "Precision: 0.1181 | Recall: 0.8781 | F1: 0.2082\n",
            "--------------------------------------------------\n",
            "Epoch 2/20:\n",
            "Loss: 0.3039 | Accuracy: 0.8566\n",
            "Precision: 0.1179 | Recall: 0.8826 | F1: 0.2080\n",
            "--------------------------------------------------\n",
            "Epoch 3/20:\n",
            "Loss: 0.3200 | Accuracy: 0.8487\n",
            "Precision: 0.1126 | Recall: 0.8849 | F1: 0.1997\n",
            "--------------------------------------------------\n",
            "Epoch 4/20:\n",
            "Loss: 0.3095 | Accuracy: 0.8450\n",
            "Precision: 0.1121 | Recall: 0.9052 | F1: 0.1995\n",
            "--------------------------------------------------\n",
            "Epoch 5/20:\n",
            "Loss: 0.3079 | Accuracy: 0.8507\n",
            "Precision: 0.1143 | Recall: 0.8894 | F1: 0.2026\n",
            "--------------------------------------------------\n",
            "Epoch 6/20:\n",
            "Loss: 0.2971 | Accuracy: 0.8558\n",
            "Precision: 0.1191 | Recall: 0.9007 | F1: 0.2104\n",
            "--------------------------------------------------\n",
            "Epoch 7/20:\n",
            "Loss: 0.2943 | Accuracy: 0.8483\n",
            "Precision: 0.1152 | Recall: 0.9142 | F1: 0.2045\n",
            "--------------------------------------------------\n",
            "Epoch 8/20:\n",
            "Loss: 0.3038 | Accuracy: 0.8504\n",
            "Precision: 0.1150 | Recall: 0.8984 | F1: 0.2039\n",
            "--------------------------------------------------\n",
            "Epoch 9/20:\n",
            "Loss: 0.2949 | Accuracy: 0.8549\n",
            "Precision: 0.1171 | Recall: 0.8871 | F1: 0.2069\n",
            "--------------------------------------------------\n",
            "Epoch 10/20:\n",
            "Loss: 0.3216 | Accuracy: 0.8331\n",
            "Precision: 0.1051 | Recall: 0.9074 | F1: 0.1883\n",
            "--------------------------------------------------\n",
            "Epoch 11/20:\n",
            "Loss: 0.2920 | Accuracy: 0.8443\n",
            "Precision: 0.1121 | Recall: 0.9097 | F1: 0.1996\n",
            "--------------------------------------------------\n",
            "Epoch 12/20:\n",
            "Loss: 0.3016 | Accuracy: 0.8541\n",
            "Precision: 0.1179 | Recall: 0.9007 | F1: 0.2085\n",
            "--------------------------------------------------\n",
            "Epoch 13/20:\n",
            "Loss: 0.3019 | Accuracy: 0.8410\n",
            "Precision: 0.1102 | Recall: 0.9120 | F1: 0.1966\n",
            "--------------------------------------------------\n",
            "Epoch 14/20:\n",
            "Loss: 0.3232 | Accuracy: 0.8524\n",
            "Precision: 0.1176 | Recall: 0.9097 | F1: 0.2082\n",
            "--------------------------------------------------\n",
            "Epoch 15/20:\n",
            "Loss: 0.2928 | Accuracy: 0.8485\n",
            "Precision: 0.1148 | Recall: 0.9097 | F1: 0.2039\n",
            "--------------------------------------------------\n",
            "Epoch 16/20:\n",
            "Loss: 0.2930 | Accuracy: 0.8518\n",
            "Precision: 0.1158 | Recall: 0.8962 | F1: 0.2051\n",
            "--------------------------------------------------\n",
            "Epoch 17/20:\n",
            "Loss: 0.2938 | Accuracy: 0.8466\n",
            "Precision: 0.1125 | Recall: 0.8984 | F1: 0.1999\n",
            "--------------------------------------------------\n",
            "Epoch 18/20:\n",
            "Loss: 0.3105 | Accuracy: 0.8471\n",
            "Precision: 0.1117 | Recall: 0.8871 | F1: 0.1984\n",
            "--------------------------------------------------\n",
            "Epoch 19/20:\n",
            "Loss: 0.2974 | Accuracy: 0.8424\n",
            "Precision: 0.1111 | Recall: 0.9120 | F1: 0.1980\n",
            "--------------------------------------------------\n",
            "Epoch 20/20:\n",
            "Loss: 0.3010 | Accuracy: 0.8478\n",
            "Precision: 0.1146 | Recall: 0.9120 | F1: 0.2036\n",
            "--------------------------------------------------\n"
          ]
        }
      ]
    },
    {
      "cell_type": "code",
      "source": [
        "torch.save(model.state_dict(), 'model_weights.pth')"
      ],
      "metadata": {
        "id": "TUjz0dPkxOvU"
      },
      "execution_count": 15,
      "outputs": []
    }
  ],
  "metadata": {
    "colab": {
      "provenance": []
    },
    "kernelspec": {
      "display_name": "Python 3",
      "name": "python3"
    },
    "language_info": {
      "name": "python"
    }
  },
  "nbformat": 4,
  "nbformat_minor": 0
}